{
 "cells": [
  {
   "cell_type": "code",
   "execution_count": 97,
   "metadata": {},
   "outputs": [
    {
     "name": "stdout",
     "output_type": "stream",
     "text": [
      "done.\n"
     ]
    }
   ],
   "source": [
    "#clean text and create stoplist, noun,proper,adj,verb remain\n",
    "import gensim\n",
    "import gensim.corpora as corpora\n",
    "from gensim.utils import simple_preprocess\n",
    "from gensim.models import CoherenceModel\n",
    "from gensim import corpora, models, similarities\n",
    "import pandas as pd\n",
    "from pandas import Series, DataFrame\n",
    "import numpy as np\n",
    "import csv\n",
    "import re\n",
    "def clean_text(text):\n",
    "    text = text.replace(\"\\n\", \" \") #newline\n",
    "    text = re.sub(r\"-\", \" \", text) #\"-\"\n",
    "    text = re.sub(r\"\\d+/\\d+/\\d+\", \"\", text) #timestamp\n",
    "    text = re.sub(r\"[\\w]+@[\\.\\w]+\", \"\", text) #ML\n",
    "    text = re.sub(r\"/[a-zA-Z]*[:\\//\\]*[A-Za-z0-9\\-_]+\\.+[A-Za-z0-9\\.\\/%&=\\?\\-_]+/i\", \"\", text)\n",
    "    pure_text = \"\"\n",
    "    for letter in text:\n",
    "        if letter.isalpha() or letter == \" \":\n",
    "            pure_text+=letter\n",
    "    text = \" \".join(word for word in pure_text.split() if len(word) > 1)\n",
    "    return text\n",
    "\n",
    "stoplist = pd.read_csv(\"/Users/CM/desktop/LDA2/stopqr.csv\")[\"BodyText\"].values\n",
    "\n",
    "print(\"done.\")"
   ]
  },
  {
   "cell_type": "code",
   "execution_count": 98,
   "metadata": {},
   "outputs": [
    {
     "name": "stdout",
     "output_type": "stream",
     "text": [
      "done.\n"
     ]
    }
   ],
   "source": [
    "#csv→clean_text→clean_stoppoint→into_corpora\n",
    "# Gensim\n",
    "\n",
    "df = pd.read_csv(\"/Users/CM/Desktop/LDA2/ldaqrtxt.csv\")\n",
    "#df = df[[\"Id\",\"BodyText\"]].dropna()\n",
    "df = df[[\"BodyText\"]].dropna()\n",
    "\n",
    "docs = df[\"BodyText\"]\n",
    "docs = docs.apply(lambda s: clean_text(s))\n",
    "doclist = docs.values\n",
    "\n",
    "#print(type(doclist))\n",
    "\n",
    "texts = [[word for word in doc.lower().split() if word not in stoplist] for doc in doclist]\n",
    "\n",
    "#print(texts)\n",
    "\n",
    "dictionary = corpora.Dictionary(texts)\n",
    "corpus = [dictionary.doc2bow(text) for text in texts]\n",
    "\n",
    "print(\"done.\")"
   ]
  },
  {
   "cell_type": "code",
   "execution_count": 99,
   "metadata": {},
   "outputs": [
    {
     "name": "stdout",
     "output_type": "stream",
     "text": [
      "done.\n"
     ]
    }
   ],
   "source": [
    "import logging\n",
    "logging.basicConfig(filename='gensim.log',\n",
    "                    format=\"%(asctime)s:%(levelname)s:%(message)s\",\n",
    "                    level=logging.INFO)\n",
    "print(\"done.\")"
   ]
  },
  {
   "cell_type": "code",
   "execution_count": 131,
   "metadata": {},
   "outputs": [
    {
     "data": {
      "text/plain": [
       "[(0,\n",
       "  '0.008*\"selection\" + 0.006*\"natural\" + 0.005*\"autism\" + 0.005*\"artificial\" + 0.003*\"brain\" + 0.003*\"autistic\" + 0.003*\"ecology\" + 0.003*\"development\" + 0.003*\"answer\" + 0.003*\"life\" + 0.002*\"question\" + 0.002*\"isnt\" + 0.002*\"read\" + 0.002*\"mit\" + 0.002*\"children\" + 0.002*\"aging\" + 0.002*\"disease\" + 0.002*\"book\" + 0.002*\"plants\" + 0.002*\"rate\" + 0.002*\"hard\" + 0.002*\"patent\" + 0.002*\"company\" + 0.002*\"changing\" + 0.002*\"idea\"'),\n",
       " (1,\n",
       "  '0.006*\"babies\" + 0.006*\"off\" + 0.005*\"designer\" + 0.004*\"parents\" + 0.003*\"children\" + 0.003*\"baby\" + 0.003*\"effects\" + 0.003*\"child\" + 0.003*\"question\" + 0.003*\"embryos\" + 0.003*\"life\" + 0.003*\"genetically\" + 0.003*\"germline\" + 0.003*\"society\" + 0.003*\"start\" + 0.003*\"disease\" + 0.003*\"create\" + 0.003*\"perfect\" + 0.002*\"mental\" + 0.002*\"change\" + 0.002*\"answer\" + 0.002*\"future\" + 0.002*\"based\" + 0.002*\"ivf\" + 0.002*\"traits\"'),\n",
       " (2,\n",
       "  '0.010*\"intelligence\" + 0.009*\"children\" + 0.008*\"parents\" + 0.006*\"life\" + 0.005*\"child\" + 0.003*\"genetics\" + 0.003*\"iq\" + 0.003*\"change\" + 0.003*\"researchers\" + 0.003*\"evolution\" + 0.003*\"autism\" + 0.003*\"intelligent\" + 0.003*\"science\" + 0.003*\"scientists\" + 0.002*\"brain\" + 0.002*\"single\" + 0.002*\"start\" + 0.002*\"traits\" + 0.002*\"nature\" + 0.002*\"study\" + 0.002*\"born\" + 0.002*\"development\" + 0.002*\"plant\" + 0.002*\"species\" + 0.002*\"based\"'),\n",
       " (3,\n",
       "  '0.011*\"patent\" + 0.005*\"answer\" + 0.005*\"broad\" + 0.005*\"tools\" + 0.004*\"berkeley\" + 0.004*\"patents\" + 0.003*\"battle\" + 0.003*\"science\" + 0.003*\"doudna\" + 0.003*\"jennifer\" + 0.003*\"uc\" + 0.003*\"weinblatts\" + 0.003*\"institute\" + 0.003*\"editas\" + 0.002*\"ai\" + 0.002*\"scientific\" + 0.002*\"nobel\" + 0.002*\"off\" + 0.002*\"claims\" + 0.002*\"manipulating\" + 0.002*\"person\" + 0.002*\"therapeutics\" + 0.002*\"didnt\" + 0.002*\"scientists\" + 0.002*\"university\"'),\n",
       " (4,\n",
       "  '0.005*\"species\" + 0.004*\"engineering\" + 0.004*\"evolution\" + 0.004*\"life\" + 0.004*\"mosquitoes\" + 0.003*\"population\" + 0.003*\"natural\" + 0.003*\"change\" + 0.003*\"disease\" + 0.003*\"drive\" + 0.003*\"create\" + 0.002*\"malaria\" + 0.002*\"question\" + 0.002*\"diseases\" + 0.002*\"intelligence\" + 0.002*\"answer\" + 0.002*\"based\" + 0.002*\"selection\" + 0.002*\"plants\" + 0.002*\"potential\" + 0.002*\"body\" + 0.002*\"generation\" + 0.002*\"control\" + 0.002*\"iq\" + 0.002*\"nature\"'),\n",
       " (5,\n",
       "  '0.012*\"market\" + 0.004*\"technologies\" + 0.004*\"applications\" + 0.004*\"global\" + 0.004*\"report\" + 0.003*\"biology\" + 0.003*\"cancer\" + 0.003*\"growth\" + 0.003*\"companies\" + 0.003*\"lab\" + 0.003*\"scientific\" + 0.003*\"china\" + 0.002*\"tools\" + 0.002*\"key\" + 0.002*\"application\" + 0.002*\"forecast\" + 0.002*\"field\" + 0.002*\"free\" + 0.002*\"based\" + 0.002*\"mainstream\" + 0.002*\"analysis\" + 0.002*\"study\" + 0.002*\"day\" + 0.002*\"lead\" + 0.002*\"players\"'),\n",
       " (6,\n",
       "  '0.012*\"babies\" + 0.010*\"hiv\" + 0.008*\"ethical\" + 0.008*\"diseases\" + 0.007*\"embryos\" + 0.007*\"disease\" + 0.006*\"future\" + 0.006*\"scientists\" + 0.006*\"baby\" + 0.006*\"edited\" + 0.006*\"china\" + 0.005*\"chinese\" + 0.005*\"designer\" + 0.005*\"genetically\" + 0.005*\"ccr\" + 0.004*\"science\" + 0.004*\"life\" + 0.004*\"children\" + 0.004*\"cure\" + 0.004*\"medical\" + 0.004*\"scientific\" + 0.004*\"scientist\" + 0.004*\"engineering\" + 0.004*\"effects\" + 0.004*\"potential\"'),\n",
       " (7,\n",
       "  '0.016*\"rna\" + 0.013*\"system\" + 0.012*\"sequence\" + 0.011*\"bacteria\" + 0.010*\"protein\" + 0.010*\"sequences\" + 0.006*\"guide\" + 0.006*\"short\" + 0.006*\"virus\" + 0.006*\"cut\" + 0.006*\"bacterial\" + 0.006*\"viruses\" + 0.005*\"viral\" + 0.005*\"enzyme\" + 0.004*\"biology\" + 0.004*\"palindromic\" + 0.004*\"pam\" + 0.004*\"molecular\" + 0.004*\"repeats\" + 0.004*\"proteins\" + 0.004*\"immune\" + 0.004*\"enzymes\" + 0.003*\"tool\" + 0.003*\"regularly\" + 0.003*\"engineering\"'),\n",
       " (8,\n",
       "  '0.012*\"change\" + 0.004*\"body\" + 0.004*\"organism\" + 0.003*\"answer\" + 0.003*\"plants\" + 0.003*\"color\" + 0.003*\"adult\" + 0.003*\"question\" + 0.003*\"modification\" + 0.003*\"person\" + 0.003*\"doesnt\" + 0.003*\"life\" + 0.002*\"engineering\" + 0.002*\"eye\" + 0.002*\"effects\" + 0.002*\"current\" + 0.002*\"hair\" + 0.002*\"chromosome\" + 0.002*\"living\" + 0.002*\"modified\" + 0.002*\"nature\" + 0.002*\"process\" + 0.002*\"create\" + 0.002*\"embryo\" + 0.002*\"organisms\"'),\n",
       " (9,\n",
       "  '0.010*\"cancer\" + 0.007*\"sequence\" + 0.006*\"repair\" + 0.006*\"mutations\" + 0.006*\"off\" + 0.006*\"system\" + 0.005*\"therapy\" + 0.005*\"mutation\" + 0.004*\"single\" + 0.004*\"protein\" + 0.004*\"cut\" + 0.003*\"rna\" + 0.003*\"guide\" + 0.003*\"virus\" + 0.003*\"double\" + 0.003*\"site\" + 0.003*\"targeted\" + 0.003*\"body\" + 0.003*\"stem\" + 0.003*\"effects\" + 0.003*\"delivery\" + 0.003*\"patient\" + 0.003*\"targeting\" + 0.003*\"strand\" + 0.003*\"researchers\"')]"
      ]
     },
     "execution_count": 131,
     "metadata": {},
     "output_type": "execute_result"
    }
   ],
   "source": [
    "#training\n",
    "\n",
    "num_topics = 10\n",
    "chunksize = 6000\n",
    "passes = 100\n",
    "iterations = 400\n",
    "eval_every = None\n",
    "\n",
    "lda = gensim.models.ldamodel.LdaModel(corpus = corpus, id2word = dictionary,chunksize=chunksize,\n",
    "                                      alpha='auto', eta='auto',eval_every=eval_every,\n",
    "                                      iterations=iterations,passes = passes,num_topics = num_topics)\n",
    "\n",
    "lda.print_topics(num_topics = num_topics, num_words = 25)"
   ]
  },
  {
   "cell_type": "code",
   "execution_count": 19,
   "metadata": {},
   "outputs": [
    {
     "ename": "NameError",
     "evalue": "name 'Ldamodel' is not defined",
     "output_type": "error",
     "traceback": [
      "\u001b[0;31m---------------------------------------------------------------------------\u001b[0m",
      "\u001b[0;31mNameError\u001b[0m                                 Traceback (most recent call last)",
      "\u001b[0;32m<ipython-input-19-63b54eb3ada2>\u001b[0m in \u001b[0;36m<module>\u001b[0;34m\u001b[0m\n\u001b[1;32m     17\u001b[0m \u001b[0mlmt\u001b[0m\u001b[0;34m=\u001b[0m\u001b[0;36m100\u001b[0m\u001b[0;34m;\u001b[0m \u001b[0mstrt\u001b[0m\u001b[0;34m=\u001b[0m\u001b[0;36m10\u001b[0m\u001b[0;34m;\u001b[0m \u001b[0mstp\u001b[0m\u001b[0;34m=\u001b[0m\u001b[0;36m10\u001b[0m\u001b[0;34m\u001b[0m\u001b[0;34m\u001b[0m\u001b[0m\n\u001b[1;32m     18\u001b[0m \u001b[0;34m\u001b[0m\u001b[0m\n\u001b[0;32m---> 19\u001b[0;31m \u001b[0mmodel_list\u001b[0m\u001b[0;34m,\u001b[0m \u001b[0mcoherence_values\u001b[0m \u001b[0;34m=\u001b[0m \u001b[0mcompute_coherence_values\u001b[0m\u001b[0;34m(\u001b[0m\u001b[0mdictionary\u001b[0m\u001b[0;34m,\u001b[0m \u001b[0mcorpus\u001b[0m\u001b[0;34m=\u001b[0m\u001b[0mcorpus\u001b[0m\u001b[0;34m,\u001b[0m \u001b[0mtexts\u001b[0m\u001b[0;34m=\u001b[0m\u001b[0mtexts\u001b[0m\u001b[0;34m,\u001b[0m \u001b[0mstart\u001b[0m\u001b[0;34m=\u001b[0m\u001b[0mstrt\u001b[0m\u001b[0;34m,\u001b[0m \u001b[0mlimit\u001b[0m\u001b[0;34m=\u001b[0m\u001b[0mlmt\u001b[0m\u001b[0;34m,\u001b[0m \u001b[0mstep\u001b[0m\u001b[0;34m=\u001b[0m\u001b[0mstp\u001b[0m\u001b[0;34m)\u001b[0m\u001b[0;34m\u001b[0m\u001b[0;34m\u001b[0m\u001b[0m\n\u001b[0m",
      "\u001b[0;32m<ipython-input-19-63b54eb3ada2>\u001b[0m in \u001b[0;36mcompute_coherence_values\u001b[0;34m(dictionary, corpus, texts, limit, start, step)\u001b[0m\n\u001b[1;32m      7\u001b[0m         \u001b[0;31m#HdpModel(corpus=corpus, id2word=dictionary)\u001b[0m\u001b[0;34m\u001b[0m\u001b[0;34m\u001b[0m\u001b[0;34m\u001b[0m\u001b[0m\n\u001b[1;32m      8\u001b[0m         \u001b[0;31m#LdaMallet(mallet_path, id2word=dictionary, corpus=corpus,iterations=30 , num_topics=num_topics)\u001b[0m\u001b[0;34m\u001b[0m\u001b[0;34m\u001b[0m\u001b[0;34m\u001b[0m\u001b[0m\n\u001b[0;32m----> 9\u001b[0;31m         \u001b[0mmodel\u001b[0m \u001b[0;34m=\u001b[0m \u001b[0mLdamodel\u001b[0m\u001b[0;34m(\u001b[0m\u001b[0mcorpus\u001b[0m\u001b[0;34m=\u001b[0m\u001b[0mcorpus\u001b[0m\u001b[0;34m,\u001b[0m \u001b[0mnum_topics\u001b[0m\u001b[0;34m=\u001b[0m\u001b[0mnum_topics\u001b[0m\u001b[0;34m,\u001b[0m \u001b[0mid2word\u001b[0m\u001b[0;34m=\u001b[0m\u001b[0mdictionary\u001b[0m\u001b[0;34m)\u001b[0m\u001b[0;34m\u001b[0m\u001b[0;34m\u001b[0m\u001b[0m\n\u001b[0m\u001b[1;32m     10\u001b[0m         \u001b[0;31m#LsiModel(corpus=corpus, num_topics=num_topics, id2word=dictionary)\u001b[0m\u001b[0;34m\u001b[0m\u001b[0;34m\u001b[0m\u001b[0;34m\u001b[0m\u001b[0m\n\u001b[1;32m     11\u001b[0m         \u001b[0mmodel_list\u001b[0m\u001b[0;34m.\u001b[0m\u001b[0mappend\u001b[0m\u001b[0;34m(\u001b[0m\u001b[0mmodel\u001b[0m\u001b[0;34m)\u001b[0m\u001b[0;34m\u001b[0m\u001b[0;34m\u001b[0m\u001b[0m\n",
      "\u001b[0;31mNameError\u001b[0m: name 'Ldamodel' is not defined"
     ]
    }
   ],
   "source": [
    "########################GENSIM MODELS#############################\n",
    "def compute_coherence_values(dictionary, corpus, texts, limit, start, step):\n",
    "    coherence_values = []\n",
    "    model_list = []\n",
    "    for num_topics in range(start, limit, step):\n",
    "        #model = LdaMallet(mallet_path, id2word=dictionary, corpus=corpus, num_topics=num_topics)\n",
    "        #HdpModel(corpus=corpus, id2word=dictionary)\n",
    "        #LdaMallet(mallet_path, id2word=dictionary, corpus=corpus,iterations=30 , num_topics=num_topics)\n",
    "        model = Ldamodel(corpus=corpus, num_topics=num_topics, id2word=dictionary)\n",
    "        #LsiModel(corpus=corpus, num_topics=num_topics, id2word=dictionary)\n",
    "        model_list.append(model)\n",
    "        topics = [[word for word, prob in topic] for topicid, topic in model.show_topics(num_topics=num_topics, formatted=False)]\n",
    "        coherencemodel = CoherenceModel(topics=topics, texts=texts, dictionary=dictionary, coherence='c_v',window_size=200)\n",
    "        coherence_values.append(coherencemodel.get_coherence())\n",
    "    return model_list, coherence_values\n",
    "\n",
    "lmt=100; strt=10; stp=10\n",
    "\n",
    "model_list, coherence_values = compute_coherence_values(dictionary, corpus=corpus, texts=texts, start=strt, limit=lmt, step=stp)"
   ]
  },
  {
   "cell_type": "code",
   "execution_count": 146,
   "metadata": {},
   "outputs": [],
   "source": [
    "import re\n",
    "import matplotlib.pyplot as plt\n",
    "p = re.compile(\"(-*\\d+\\.\\d+) per-word .* (\\d+\\.\\d+) perplexity\")\n",
    "matches = [p.findall(l) for l in open('gensim.log')]\n",
    "matches = [m for m in matches if len(m) > 0]\n",
    "tuples = [t[0] for t in matches]\n",
    "perplexity = [float(t[1]) for t in tuples]\n",
    "liklihood = [float(t[0]) for t in tuples]\n",
    "iter = list(range(0,len(tuples)*10,10))\n",
    "plt.plot(iter,liklihood,c=\"black\")\n",
    "plt.ylabel(\"log liklihood\")\n",
    "plt.xlabel(\"iteration\")\n",
    "plt.title(\"Topic Model Convergence\")\n",
    "plt.grid()\n",
    "plt.savefig(\"convergence_liklihood.pdf\")\n",
    "plt.close()\n",
    "\n",
    "#print('\\nPerplexity: ', lda.log_perplexity(corpus))"
   ]
  },
  {
   "cell_type": "code",
   "execution_count": 137,
   "metadata": {},
   "outputs": [],
   "source": [
    "#print('\\nPerplexity: ', lda.log_perplexity(corpus))"
   ]
  },
  {
   "cell_type": "code",
   "execution_count": null,
   "metadata": {},
   "outputs": [],
   "source": [
    "#coherence_model_lda = CoherenceModel(model=lda, texts=corpus, dictionary=dictionary, coherence='c_v')\n",
    "#coherence_lda = coherence_model_lda.get_coherence()\n",
    "#print('\\nCoherence Score: ', coherence_lda)"
   ]
  },
  {
   "cell_type": "code",
   "execution_count": 1,
   "metadata": {},
   "outputs": [
    {
     "ename": "NameError",
     "evalue": "name 'models' is not defined",
     "output_type": "error",
     "traceback": [
      "\u001b[0;31m---------------------------------------------------------------------------\u001b[0m",
      "\u001b[0;31mNameError\u001b[0m                                 Traceback (most recent call last)",
      "\u001b[0;32m<ipython-input-1-e08a44d74d40>\u001b[0m in \u001b[0;36m<module>\u001b[0;34m\u001b[0m\n\u001b[0;32m----> 1\u001b[0;31m \u001b[0mtfidf\u001b[0m \u001b[0;34m=\u001b[0m \u001b[0mmodels\u001b[0m\u001b[0;34m.\u001b[0m\u001b[0mTfidfModel\u001b[0m\u001b[0;34m(\u001b[0m\u001b[0mcorpus\u001b[0m\u001b[0;34m)\u001b[0m\u001b[0;34m\u001b[0m\u001b[0;34m\u001b[0m\u001b[0m\n\u001b[0m\u001b[1;32m      2\u001b[0m \u001b[0mcorpus_tfidf\u001b[0m \u001b[0;34m=\u001b[0m \u001b[0mtfidf\u001b[0m\u001b[0;34m[\u001b[0m\u001b[0mcorpus\u001b[0m\u001b[0;34m]\u001b[0m\u001b[0;34m\u001b[0m\u001b[0;34m\u001b[0m\u001b[0m\n",
      "\u001b[0;31mNameError\u001b[0m: name 'models' is not defined"
     ]
    }
   ],
   "source": [
    "tfidf = models.TfidfModel(corpus)\n",
    "corpus_tfidf = tfidf[corpus]"
   ]
  },
  {
   "cell_type": "code",
   "execution_count": null,
   "metadata": {},
   "outputs": [],
   "source": []
  }
 ],
 "metadata": {
  "kernelspec": {
   "display_name": "Python 3",
   "language": "python",
   "name": "python3"
  },
  "language_info": {
   "codemirror_mode": {
    "name": "ipython",
    "version": 3
   },
   "file_extension": ".py",
   "mimetype": "text/x-python",
   "name": "python",
   "nbconvert_exporter": "python",
   "pygments_lexer": "ipython3",
   "version": "3.7.1"
  }
 },
 "nbformat": 4,
 "nbformat_minor": 2
}
